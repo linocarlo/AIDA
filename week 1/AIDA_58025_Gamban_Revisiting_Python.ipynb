{
  "nbformat": 4,
  "nbformat_minor": 0,
  "metadata": {
    "colab": {
      "name": "AIDA 58025 Gamban - Revisiting Python.ipynb",
      "provenance": [],
      "include_colab_link": true
    },
    "kernelspec": {
      "name": "python3",
      "display_name": "Python 3"
    }
  },
  "cells": [
    {
      "cell_type": "markdown",
      "metadata": {
        "id": "view-in-github",
        "colab_type": "text"
      },
      "source": [
        "<a href=\"https://colab.research.google.com/github/linocarlo/AIDA/blob/main/week%201/AIDA_58025_Gamban_Revisiting_Python.ipynb\" target=\"_parent\"><img src=\"https://colab.research.google.com/assets/colab-badge.svg\" alt=\"Open In Colab\"/></a>"
      ]
    },
    {
      "cell_type": "markdown",
      "metadata": {
        "id": "QtbS3gXg7ajN"
      },
      "source": [
        "# Revisiting Python\r\n",
        "© L.C. Gamban (2021)\r\n",
        "\r\n",
        "This notebook discusses the basic and intermediate Python coding principles and coding design."
      ]
    },
    {
      "cell_type": "markdown",
      "metadata": {
        "id": "Ug0ti3m68Ded"
      },
      "source": [
        "## Part 1: Programming Logic and Design\r\n",
        "\r\n",
        "In this section, we will revisit Programming Logic and Design using Python language.\r\n",
        "\r\n",
        "![image](https://jelastic.com/blog/wp-content/uploads/2014/08/Python_logo-large.png)\r\n",
        "\r\n",
        "Discussions about Python\r\n",
        "\r\n",
        "#1.1 Variables and Printing Values\r\n"
      ]
    },
    {
      "cell_type": "code",
      "metadata": {
        "colab": {
          "base_uri": "https://localhost:8080/"
        },
        "id": "J6EWNMt96sCZ",
        "outputId": "7b32671e-5685-45de-bb2b-e9cda9949c33"
      },
      "source": [
        "# This is a C++ line of code\r\n",
        "# int x=2;\r\n",
        "# cout<<x;\r\n",
        "# Now this is a Python line of code\r\n",
        "x = 2\r\n",
        "print(x)\r\n",
        "# print(type(x)) to know what type of variable is x\r\n",
        "# print(\"The data type of x is\", type (x), \"and its value is\", x) \r\n",
        "# print(f\"The data type of x is {type (x)} and its value is, {x}\") F STRING\r\n",
        "print(\"The data type of x is {} and its value is, {}.\". format(type(x),x))"
      ],
      "execution_count": null,
      "outputs": [
        {
          "output_type": "stream",
          "text": [
            "2\n",
            "The data type of x is <class 'int'> and its value is, 2.\n"
          ],
          "name": "stdout"
        }
      ]
    },
    {
      "cell_type": "code",
      "metadata": {
        "id": "kuvgPg_W_UzZ",
        "outputId": "ab48eb46-78d3-48df-f3b2-8390749f92e7",
        "colab": {
          "base_uri": "https://localhost:8080/"
        }
      },
      "source": [
        "print(\"Hello World\")"
      ],
      "execution_count": 1,
      "outputs": [
        {
          "output_type": "stream",
          "text": [
            "Hello World\n"
          ],
          "name": "stdout"
        }
      ]
    },
    {
      "cell_type": "markdown",
      "metadata": {
        "id": "Z0t7dJZ88Hso"
      },
      "source": [
        "## Part 2: Object-Oriented Programming"
      ]
    },
    {
      "cell_type": "code",
      "metadata": {
        "id": "rC83uZB98LAB"
      },
      "source": [
        ""
      ],
      "execution_count": null,
      "outputs": []
    },
    {
      "cell_type": "markdown",
      "metadata": {
        "id": "ONiUovN-8M55"
      },
      "source": [
        "## Part 3: Data Structure and Algorithms"
      ]
    },
    {
      "cell_type": "code",
      "metadata": {
        "id": "AvxkZXkn8P_y"
      },
      "source": [
        ""
      ],
      "execution_count": null,
      "outputs": []
    }
  ]
}